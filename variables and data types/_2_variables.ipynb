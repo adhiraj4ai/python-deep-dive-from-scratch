{
 "cells": [
  {
   "metadata": {},
   "cell_type": "markdown",
   "source": "# Variables",
   "id": "3374a60f5d1d4aeb"
  },
  {
   "metadata": {},
   "cell_type": "markdown",
   "source": [
    "Variable are the labels we assigned to the value in Python. Any value that requires to store in order to access later are assigned to variables. To define a variable we use following syntax:\n",
    "```{python}\n",
    "name_of_variable = value\n",
    "```\n",
    "For example, let's assign \"Munal Thapa\" name of the person to `name` variable."
   ],
   "id": "e6f991c77403836b"
  },
  {
   "metadata": {
    "ExecuteTime": {
     "end_time": "2024-09-21T13:40:25.177275Z",
     "start_time": "2024-09-21T13:40:25.174186Z"
    }
   },
   "cell_type": "code",
   "source": [
    "name = \"Munal Thapa\"\n",
    "\n",
    "# Print is the function to print the value of variable into display\n",
    "print(name)"
   ],
   "id": "4c779aa9f292874",
   "outputs": [
    {
     "name": "stdout",
     "output_type": "stream",
     "text": [
      "Simon Singh\n"
     ]
    }
   ],
   "execution_count": 6
  },
  {
   "metadata": {},
   "cell_type": "markdown",
   "source": "Let's now create variable to store age of the person.",
   "id": "3a7b589bd399403c"
  },
  {
   "cell_type": "code",
   "id": "initial_id",
   "metadata": {
    "collapsed": true,
    "ExecuteTime": {
     "end_time": "2024-09-21T13:40:26.484886Z",
     "start_time": "2024-09-21T13:40:26.481258Z"
    }
   },
   "source": [
    "age = 20\n",
    "print(\"Age: \", age)"
   ],
   "outputs": [
    {
     "name": "stdout",
     "output_type": "stream",
     "text": [
      "Age:  20\n"
     ]
    }
   ],
   "execution_count": 7
  },
  {
   "metadata": {},
   "cell_type": "markdown",
   "source": [
    "## Variable Naming Convention:\n",
    "While defining a variable, we must follow some rules that complies with the best practices:\n",
    "* Names of variable can contain only letters, numbers and underscores but variables must not start with number. \\\n",
    "\\\n",
    "For example, `name`, `_name` or `name_of_variables` can be the name of variables but `123names` or `1_name` or simply some numbers `123983` can't be the variables. \n",
    "* Variable can contain both uppercase and lower case characters. Variable names containing all upper case character are considered as constant in python. For example, `PI = 3.417`\n",
    "* Variable names must not contain space which means `name of variable`, for example, is invalid variable name.\n",
    "* Variable names can't use the reserved keywords including builtin function of python programming language."
   ],
   "id": "7b0e8f2f6566b97c"
  },
  {
   "metadata": {},
   "cell_type": "markdown",
   "source": "Let's define various variable that contains various data.",
   "id": "e333af22cda9d22c"
  },
  {
   "metadata": {
    "ExecuteTime": {
     "end_time": "2024-09-21T13:56:18.299617Z",
     "start_time": "2024-09-21T13:56:18.296914Z"
    }
   },
   "cell_type": "code",
   "source": [
    "# Define variable to store the height of the person\n",
    "height = 4.5\n",
    "weight = 60\n",
    "\n",
    "# Define whether a person is married or not\n",
    "married = True\n",
    "\n",
    "# Or define marital status\n",
    "marital_status = 'Married'"
   ],
   "id": "9570a8785f9ae11a",
   "outputs": [],
   "execution_count": 8
  }
 ],
 "metadata": {
  "kernelspec": {
   "display_name": "Python 3",
   "language": "python",
   "name": "python3"
  },
  "language_info": {
   "codemirror_mode": {
    "name": "ipython",
    "version": 2
   },
   "file_extension": ".py",
   "mimetype": "text/x-python",
   "name": "python",
   "nbconvert_exporter": "python",
   "pygments_lexer": "ipython2",
   "version": "2.7.6"
  }
 },
 "nbformat": 4,
 "nbformat_minor": 5
}
