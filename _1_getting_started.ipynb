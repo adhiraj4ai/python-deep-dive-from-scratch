{
 "cells": [
  {
   "metadata": {},
   "cell_type": "markdown",
   "source": "Hi! Welcome to the python deep dive series. In this deep dive series, I will be taking you from basics of python through OOP concepts of python to the deep into the concept of advanced python. So, let's get into the details of our agenda."
  },
  {
   "cell_type": "code",
   "execution_count": null,
   "metadata": {},
   "outputs": [],
   "source": []
  }
 ],
 "metadata": {
  "kernelspec": {
   "display_name": ".venv",
   "language": "python",
   "name": "python3"
  },
  "language_info": {
   "name": "python",
   "version": "3.12.3"
  }
 },
 "nbformat": 4,
 "nbformat_minor": 2
}
